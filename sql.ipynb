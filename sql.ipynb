{
 "cells": [
  {
   "cell_type": "markdown",
   "metadata": {},
   "source": [
    "занятие 1\n"
   ]
  },
  {
   "cell_type": "code",
   "execution_count": 2,
   "metadata": {},
   "outputs": [],
   "source": [
    "import mysql.connector as mysql"
   ]
  },
  {
   "cell_type": "code",
   "execution_count": 14,
   "metadata": {},
   "outputs": [],
   "source": [
    "con = mysql.connect(user= 'root', password='nogaya98',\n",
    "                              host='127.0.0.1',\n",
    "                              database='new_schema')"
   ]
  },
  {
   "cell_type": "code",
   "execution_count": 15,
   "metadata": {},
   "outputs": [],
   "source": [
    "cur = con.cursor(dictionary = True)"
   ]
  },
  {
   "cell_type": "code",
   "execution_count": 21,
   "metadata": {},
   "outputs": [],
   "source": [
    "cur.execute ('SELECT * FROM new_schema.students')\n",
    "#con.commit()"
   ]
  },
  {
   "cell_type": "code",
   "execution_count": 20,
   "metadata": {},
   "outputs": [],
   "source": [
    "con.commit()"
   ]
  },
  {
   "cell_type": "code",
   "execution_count": 22,
   "metadata": {},
   "outputs": [
    {
     "name": "stdout",
     "output_type": "stream",
     "text": [
      "{'id_students': 1, 'surname': 'orlov', 'name': 'alexander', 'patronim': 'vicktorovich', 'group': 'bkl162', 'birthday': datetime.date(1998, 10, 23), 'speciality': 'comp'}\n",
      "{'id_students': 2, 'surname': 'nas', 'name': 'ali', 'patronim': 'vik', 'group': 'bkl161', 'birthday': datetime.date(1998, 10, 10), 'speciality': None}\n",
      "{'id_students': 3, 'surname': 'nastya', 'name': 'kroma', 'patronim': 'viktorovna', 'group': 'bkl161', 'birthday': datetime.date(1998, 5, 10), 'speciality': None}\n"
     ]
    }
   ],
   "source": [
    "row = cur.fetchone()\n",
    "while row is not None:\n",
    "  print(row)\n",
    "  row = cur.fetchone() #много записей"
   ]
  },
  {
   "cell_type": "code",
   "execution_count": 8,
   "metadata": {},
   "outputs": [
    {
     "data": {
      "text/plain": [
       "<bound method CMySQLCursorDict.fetchall of <mysql.connector.cursor_cext.CMySQLCursorDict object at 0x000001A8B84CDC18>>"
      ]
     },
     "execution_count": 8,
     "metadata": {},
     "output_type": "execute_result"
    }
   ],
   "source": [
    "cur.fetchall #много записей"
   ]
  },
  {
   "cell_type": "code",
   "execution_count": 24,
   "metadata": {},
   "outputs": [],
   "source": [
    "cur.execute (\"INSERT INTO `new_schema`.`students` (`surname`, `name`, `patronim`, `group`, `birthday`) VALUES ('nastya', 'sidorova', 'viktorovna', 'bkl161', '1998-10-10')\")"
   ]
  },
  {
   "cell_type": "code",
   "execution_count": 25,
   "metadata": {},
   "outputs": [],
   "source": [
    "con.commit()"
   ]
  },
  {
   "cell_type": "code",
   "execution_count": 9,
   "metadata": {},
   "outputs": [
    {
     "data": {
      "text/plain": [
       "<bound method CMySQLConnection.rollback of <mysql.connector.connection_cext.CMySQLConnection object at 0x000001A8B84CDA58>>"
      ]
     },
     "execution_count": 9,
     "metadata": {},
     "output_type": "execute_result"
    }
   ],
   "source": [
    "con.rollback # откатить тразакцию назад"
   ]
  },
  {
   "cell_type": "markdown",
   "metadata": {},
   "source": [
    "задание2"
   ]
  },
  {
   "cell_type": "code",
   "execution_count": 3,
   "metadata": {},
   "outputs": [],
   "source": [
    "con = mysql.connect(user= 'root', password='nogaya98',\n",
    "                              host='127.0.0.1',\n",
    "                              database='new_schema')"
   ]
  },
  {
   "cell_type": "code",
   "execution_count": 4,
   "metadata": {},
   "outputs": [],
   "source": [
    "cur = con.cursor(dictionary = True)"
   ]
  },
  {
   "cell_type": "markdown",
   "metadata": {},
   "source": [
    "#скачали текст и разбили на массив массивов текст - предлож- слова"
   ]
  },
  {
   "cell_type": "code",
   "execution_count": 5,
   "metadata": {},
   "outputs": [],
   "source": [
    "#  доканчали колонки"
   ]
  },
  {
   "cell_type": "code",
   "execution_count": null,
   "metadata": {},
   "outputs": [],
   "source": [
    "req = \"INSERT\"\n",
    "\n",
    "for sent_no, sent in "
   ]
  }
 ],
 "metadata": {
  "kernelspec": {
   "display_name": "Python 3",
   "language": "python",
   "name": "python3"
  },
  "language_info": {
   "codemirror_mode": {
    "name": "ipython",
    "version": 3
   },
   "file_extension": ".py",
   "mimetype": "text/x-python",
   "name": "python",
   "nbconvert_exporter": "python",
   "pygments_lexer": "ipython3",
   "version": "3.7.3"
  }
 },
 "nbformat": 4,
 "nbformat_minor": 2
}
