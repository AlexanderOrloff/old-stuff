{
 "cells": [
  {
   "cell_type": "markdown",
   "metadata": {},
   "source": [
    "for the project"
   ]
  },
  {
   "cell_type": "code",
   "execution_count": 17,
   "metadata": {},
   "outputs": [],
   "source": [
    "import csv\n",
    "import pymorphy2\n",
    "import string\n",
    "import re\n",
    "from math import log\n",
    "import numpy as np\n",
    "from sklearn.feature_extraction.text import CountVectorizer\n",
    "from sklearn.feature_extraction.text import TfidfVectorizer\n",
    "\n",
    "morph = pymorphy2.MorphAnalyzer()\n",
    "vectorizer1 = CountVectorizer(binary = True)\n",
    "vectorizertf = TfidfVectorizer(use_idf=False)"
   ]
  },
  {
   "cell_type": "code",
   "execution_count": 18,
   "metadata": {},
   "outputs": [],
   "source": [
    "def get_texts():\n",
    "    corpus = []\n",
    "    inquiery = []\n",
    "    lenghths = []\n",
    "    scores = []\n",
    "    normal = []\n",
    "\n",
    "    with open('quora_question_pairs_rus.csv', encoding = 'utf-8') as csvfile:\n",
    "        readCSV = csv.reader(csvfile, delimiter=',')\n",
    "        for row in readCSV:\n",
    "            normal.append(row[2])\n",
    "            text = preproc(row[2])\n",
    "            corpus.append(text)\n",
    "            inquiery.append(row[1])\n",
    "            lenghths.append(len(text.split(' ')))\n",
    "            scores.append(row[3])\n",
    "            if len(scores) == 2000:\n",
    "                return [corpus, inquiery, lenghths, scores, normal]\n",
    "\n",
    "def preproc(data):                      # препроцессинг (убираем знаки препинания и числа, приводим всё к начальной форме)\n",
    "            data = data.split()        \n",
    "            text = ''                   # числа есть только в тех информации, в самом скрипте все числа пишутся буквами\n",
    "            for word in data:\n",
    "                word = word.strip('[!,.?\"]')\n",
    "                p = morph.parse(word.strip())[0]\n",
    "                p = p.normal_form\n",
    "                if p != '-':\n",
    "                    if re.search(r'\\d', p) == None:\n",
    "                        text  = text + ' ' + p\n",
    "            return text[1:]    "
   ]
  },
  {
   "cell_type": "code",
   "execution_count": 19,
   "metadata": {},
   "outputs": [],
   "source": [
    "data = get_texts()"
   ]
  },
  {
   "cell_type": "code",
   "execution_count": 20,
   "metadata": {},
   "outputs": [],
   "source": [
    "corpus_texts, inquiery_texts, lenghths, scores, normal_texts =  data[0][1:], data[1][1:], data[2][1:], data[3][1:], data[4][1:]\n",
    "del data"
   ]
  },
  {
   "cell_type": "code",
   "execution_count": 21,
   "metadata": {},
   "outputs": [
    {
     "name": "stdout",
     "output_type": "stream",
     "text": [
      "как повысить скорость интернет путём взлом через dns\n",
      "как я могу увеличить скорость моего интернет-соединения, используя vpn\n",
      "0\n"
     ]
    }
   ],
   "source": [
    "print(corpus_texts[1])\n",
    "print(inquiery_texts[1])\n",
    "print(scores[1])"
   ]
  },
  {
   "cell_type": "code",
   "execution_count": 22,
   "metadata": {},
   "outputs": [],
   "source": [
    "from sklearn.metrics.pairwise import cosine_similarity\n",
    "from sklearn.feature_extraction.text import TfidfVectorizer\n",
    "vectorizer = TfidfVectorizer()\n",
    "X = vectorizer.fit_transform(corpus_texts)\n",
    "voc = vectorizer.get_feature_names()"
   ]
  },
  {
   "cell_type": "code",
   "execution_count": 26,
   "metadata": {},
   "outputs": [],
   "source": [
    "X = X.toarray()"
   ]
  },
  {
   "cell_type": "code",
   "execution_count": 29,
   "metadata": {},
   "outputs": [],
   "source": [
    "def search(inquiery, voc):\n",
    "    inq = preproc(inquiery)\n",
    "    vec = np.zeros((len(voc)))\n",
    "    for word in inq.split(' '):\n",
    "        if word in voc:\n",
    "            index = voc.index(word)\n",
    "            vec[index] = 1\n",
    "    res = np.dot(X,vec)\n",
    "    results = np.argsort(res)[::-1][:5]\n",
    "    for i in results:\n",
    "        print(normal_texts[i])\n",
    "    return"
   ]
  },
  {
   "cell_type": "code",
   "execution_count": 30,
   "metadata": {},
   "outputs": [
    {
     "name": "stdout",
     "output_type": "stream",
     "text": [
      "какие будут последствия решения правительства Индии, влияющие на недействительные 500 1000 заметок валюты\n",
      "что произойдет, если правительство Индии украдет кохинор кох-и-ноор-алмаз назад\n",
      "это решение правительства Индии запретить 500 и 1000 рупий отмечает мастер-ход или ошибочный план\n",
      "почему мусульмане ненавидят modi правительство\n",
      "как отношения Индии с американским\n"
     ]
    }
   ],
   "source": [
    "search('правительство Индии', voc)"
   ]
  },
  {
   "cell_type": "code",
   "execution_count": null,
   "metadata": {},
   "outputs": [],
   "source": []
  }
 ],
 "metadata": {
  "kernelspec": {
   "display_name": "Python 3",
   "language": "python",
   "name": "python3"
  },
  "language_info": {
   "codemirror_mode": {
    "name": "ipython",
    "version": 3
   },
   "file_extension": ".py",
   "mimetype": "text/x-python",
   "name": "python",
   "nbconvert_exporter": "python",
   "pygments_lexer": "ipython3",
   "version": "3.7.3"
  }
 },
 "nbformat": 4,
 "nbformat_minor": 2
}
