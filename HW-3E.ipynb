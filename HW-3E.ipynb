{
 "cells": [
  {
   "cell_type": "code",
   "execution_count": 1,
   "metadata": {},
   "outputs": [],
   "source": [
    "%load_ext autoreload\n",
    "\n",
    "import time\n",
    "import numpy as np\n",
    "import tensorflow as tf\n",
    "\n",
    "tf.reset_default_graph()\n",
    "elmo_path = './elmo'"
   ]
  },
  {
   "cell_type": "code",
   "execution_count": 2,
   "metadata": {},
   "outputs": [],
   "source": [
    "import sys\n",
    "import re\n",
    "import os\n",
    "import tensorflow as tf\n",
    "from bilm import Batcher, BidirectionalLanguageModel, weight_layers"
   ]
  },
  {
   "cell_type": "code",
   "execution_count": 3,
   "metadata": {},
   "outputs": [],
   "source": [
    "def tokenize(string):\n",
    "    \"\"\"\n",
    "    :param string: well, text string\n",
    "    :return: list of tokens\n",
    "    \"\"\"\n",
    "    token_pattern = re.compile('(?u)\\w+')\n",
    "    tokens = [t.lower() for t in token_pattern.findall(string)]\n",
    "    return tokens\n",
    "\n",
    "\n",
    "def get_elmo_vectors(sess, texts, batcher, sentence_character_ids, elmo_sentence_input):\n",
    "    \"\"\"\n",
    "    :param sess: TensorFlow session\n",
    "    :param texts: list of sentences (lists of words)\n",
    "    :param batcher: ELMo batcher object\n",
    "    :param sentence_character_ids: ELMo character id placeholders\n",
    "    :param elmo_sentence_input: ELMo op object\n",
    "    :return: embedding matrix for all sentences (max word count by vector size)\n",
    "    \"\"\"\n",
    "\n",
    "    # Create batches of data.\n",
    "    sentence_ids = batcher.batch_sentences(texts)\n",
    "    print('Sentences in this batch:', len(texts), file=sys.stderr)\n",
    "\n",
    "    # Compute ELMo representations.\n",
    "    elmo_sentence_input_ = sess.run(elmo_sentence_input['weighted_op'],\n",
    "                                    feed_dict={sentence_character_ids: sentence_ids})\n",
    "\n",
    "    return elmo_sentence_input_\n",
    "\n",
    "\n",
    "def load_elmo_embeddings(directory, top=False):\n",
    "    \"\"\"\n",
    "    :param directory: directory with an ELMo model ('model.hdf5', 'options.json' and 'vocab.txt.gz')\n",
    "    :param top: use ony top ELMo layer\n",
    "    :return: ELMo batcher, character id placeholders, op object\n",
    "    \"\"\"\n",
    "    vocab_file = os.path.join(directory, 'vocab.txt.gz')\n",
    "    options_file = os.path.join(directory, 'options.json')\n",
    "    weight_file = os.path.join(directory, 'model.hdf5')\n",
    "\n",
    "    # Create a Batcher to map text to character ids.\n",
    "    batcher = Batcher(vocab_file, 50)\n",
    "\n",
    "    # Input placeholders to the biLM.\n",
    "    sentence_character_ids = tf.placeholder('int32', shape=(None, None, 50))\n",
    "\n",
    "    # Build the biLM graph.\n",
    "    bilm = BidirectionalLanguageModel(options_file, weight_file, max_batch_size=300)\n",
    "\n",
    "    # Get ops to compute the LM embeddings.\n",
    "    sentence_embeddings_op = bilm(sentence_character_ids)\n",
    "\n",
    "    # Get an op to compute ELMo (weighted average of the internal biLM layers)\n",
    "    elmo_sentence_input = weight_layers('input', sentence_embeddings_op, use_top_only=top)\n",
    "    return batcher, sentence_character_ids, elmo_sentence_input"
   ]
  },
  {
   "cell_type": "code",
   "execution_count": 4,
   "metadata": {},
   "outputs": [
    {
     "ename": "FileNotFoundError",
     "evalue": "[Errno 2] No such file or directory: './elmo\\\\vocab.txt.gz'",
     "output_type": "error",
     "traceback": [
      "\u001b[1;31m---------------------------------------------------------------------------\u001b[0m",
      "\u001b[1;31mFileNotFoundError\u001b[0m                         Traceback (most recent call last)",
      "\u001b[1;32m<ipython-input-4-79d90731a083>\u001b[0m in \u001b[0;36m<module>\u001b[1;34m\u001b[0m\n\u001b[0;32m      1\u001b[0m \u001b[1;31m# Loading a pre-trained ELMo model:\u001b[0m\u001b[1;33m\u001b[0m\u001b[1;33m\u001b[0m\u001b[1;33m\u001b[0m\u001b[0m\n\u001b[1;32m----> 2\u001b[1;33m \u001b[0mbatcher\u001b[0m\u001b[1;33m,\u001b[0m \u001b[0msentence_character_ids\u001b[0m\u001b[1;33m,\u001b[0m \u001b[0melmo_sentence_input\u001b[0m \u001b[1;33m=\u001b[0m \u001b[0mload_elmo_embeddings\u001b[0m\u001b[1;33m(\u001b[0m\u001b[0melmo_path\u001b[0m\u001b[1;33m)\u001b[0m\u001b[1;33m\u001b[0m\u001b[1;33m\u001b[0m\u001b[0m\n\u001b[0m\u001b[0;32m      3\u001b[0m \u001b[1;33m\u001b[0m\u001b[0m\n\u001b[0;32m      4\u001b[0m \u001b[1;33m\u001b[0m\u001b[0m\n\u001b[0;32m      5\u001b[0m \u001b[1;31m# Actually producing ELMo embeddings for our data:\u001b[0m\u001b[1;33m\u001b[0m\u001b[1;33m\u001b[0m\u001b[1;33m\u001b[0m\u001b[0m\n",
      "\u001b[1;32m<ipython-input-3-84774c4547b0>\u001b[0m in \u001b[0;36mload_elmo_embeddings\u001b[1;34m(directory, top)\u001b[0m\n\u001b[0;32m     41\u001b[0m \u001b[1;33m\u001b[0m\u001b[0m\n\u001b[0;32m     42\u001b[0m     \u001b[1;31m# Create a Batcher to map text to character ids.\u001b[0m\u001b[1;33m\u001b[0m\u001b[1;33m\u001b[0m\u001b[1;33m\u001b[0m\u001b[0m\n\u001b[1;32m---> 43\u001b[1;33m     \u001b[0mbatcher\u001b[0m \u001b[1;33m=\u001b[0m \u001b[0mBatcher\u001b[0m\u001b[1;33m(\u001b[0m\u001b[0mvocab_file\u001b[0m\u001b[1;33m,\u001b[0m \u001b[1;36m50\u001b[0m\u001b[1;33m)\u001b[0m\u001b[1;33m\u001b[0m\u001b[1;33m\u001b[0m\u001b[0m\n\u001b[0m\u001b[0;32m     44\u001b[0m \u001b[1;33m\u001b[0m\u001b[0m\n\u001b[0;32m     45\u001b[0m     \u001b[1;31m# Input placeholders to the biLM.\u001b[0m\u001b[1;33m\u001b[0m\u001b[1;33m\u001b[0m\u001b[1;33m\u001b[0m\u001b[0m\n",
      "\u001b[1;32m~\\Anaconda3\\lib\\site-packages\\bilm\\data.py\u001b[0m in \u001b[0;36m__init__\u001b[1;34m(self, lm_vocab_file, max_token_length)\u001b[0m\n\u001b[0;32m    202\u001b[0m         '''\n\u001b[0;32m    203\u001b[0m         self._lm_vocab = UnicodeCharsVocabulary(\n\u001b[1;32m--> 204\u001b[1;33m             \u001b[0mlm_vocab_file\u001b[0m\u001b[1;33m,\u001b[0m \u001b[0mmax_token_length\u001b[0m\u001b[1;33m\u001b[0m\u001b[1;33m\u001b[0m\u001b[0m\n\u001b[0m\u001b[0;32m    205\u001b[0m         )\n\u001b[0;32m    206\u001b[0m         \u001b[0mself\u001b[0m\u001b[1;33m.\u001b[0m\u001b[0m_max_token_length\u001b[0m \u001b[1;33m=\u001b[0m \u001b[0mmax_token_length\u001b[0m\u001b[1;33m\u001b[0m\u001b[1;33m\u001b[0m\u001b[0m\n",
      "\u001b[1;32m~\\Anaconda3\\lib\\site-packages\\bilm\\data.py\u001b[0m in \u001b[0;36m__init__\u001b[1;34m(self, filename, max_word_length, **kwargs)\u001b[0m\n\u001b[0;32m    115\u001b[0m     \"\"\"\n\u001b[0;32m    116\u001b[0m     \u001b[1;32mdef\u001b[0m \u001b[0m__init__\u001b[0m\u001b[1;33m(\u001b[0m\u001b[0mself\u001b[0m\u001b[1;33m,\u001b[0m \u001b[0mfilename\u001b[0m\u001b[1;33m,\u001b[0m \u001b[0mmax_word_length\u001b[0m\u001b[1;33m,\u001b[0m \u001b[1;33m**\u001b[0m\u001b[0mkwargs\u001b[0m\u001b[1;33m)\u001b[0m\u001b[1;33m:\u001b[0m\u001b[1;33m\u001b[0m\u001b[1;33m\u001b[0m\u001b[0m\n\u001b[1;32m--> 117\u001b[1;33m         \u001b[0msuper\u001b[0m\u001b[1;33m(\u001b[0m\u001b[0mUnicodeCharsVocabulary\u001b[0m\u001b[1;33m,\u001b[0m \u001b[0mself\u001b[0m\u001b[1;33m)\u001b[0m\u001b[1;33m.\u001b[0m\u001b[0m__init__\u001b[0m\u001b[1;33m(\u001b[0m\u001b[0mfilename\u001b[0m\u001b[1;33m,\u001b[0m \u001b[1;33m**\u001b[0m\u001b[0mkwargs\u001b[0m\u001b[1;33m)\u001b[0m\u001b[1;33m\u001b[0m\u001b[1;33m\u001b[0m\u001b[0m\n\u001b[0m\u001b[0;32m    118\u001b[0m         \u001b[0mself\u001b[0m\u001b[1;33m.\u001b[0m\u001b[0m_max_word_length\u001b[0m \u001b[1;33m=\u001b[0m \u001b[0mmax_word_length\u001b[0m\u001b[1;33m\u001b[0m\u001b[1;33m\u001b[0m\u001b[0m\n\u001b[0;32m    119\u001b[0m \u001b[1;33m\u001b[0m\u001b[0m\n",
      "\u001b[1;32m~\\Anaconda3\\lib\\site-packages\\bilm\\data.py\u001b[0m in \u001b[0;36m__init__\u001b[1;34m(self, filename, validate_file)\u001b[0m\n\u001b[0;32m     25\u001b[0m         \u001b[0mself\u001b[0m\u001b[1;33m.\u001b[0m\u001b[0m_eos\u001b[0m \u001b[1;33m=\u001b[0m \u001b[1;33m-\u001b[0m\u001b[1;36m1\u001b[0m\u001b[1;33m\u001b[0m\u001b[1;33m\u001b[0m\u001b[0m\n\u001b[0;32m     26\u001b[0m \u001b[1;33m\u001b[0m\u001b[0m\n\u001b[1;32m---> 27\u001b[1;33m         \u001b[1;32mwith\u001b[0m \u001b[0mopen\u001b[0m\u001b[1;33m(\u001b[0m\u001b[0mfilename\u001b[0m\u001b[1;33m)\u001b[0m \u001b[1;32mas\u001b[0m \u001b[0mf\u001b[0m\u001b[1;33m:\u001b[0m\u001b[1;33m\u001b[0m\u001b[1;33m\u001b[0m\u001b[0m\n\u001b[0m\u001b[0;32m     28\u001b[0m             \u001b[0midx\u001b[0m \u001b[1;33m=\u001b[0m \u001b[1;36m0\u001b[0m\u001b[1;33m\u001b[0m\u001b[1;33m\u001b[0m\u001b[0m\n\u001b[0;32m     29\u001b[0m             \u001b[1;32mfor\u001b[0m \u001b[0mline\u001b[0m \u001b[1;32min\u001b[0m \u001b[0mf\u001b[0m\u001b[1;33m:\u001b[0m\u001b[1;33m\u001b[0m\u001b[1;33m\u001b[0m\u001b[0m\n",
      "\u001b[1;31mFileNotFoundError\u001b[0m: [Errno 2] No such file or directory: './elmo\\\\vocab.txt.gz'"
     ]
    }
   ],
   "source": [
    "# Loading a pre-trained ELMo model:\n",
    "batcher, sentence_character_ids, elmo_sentence_input = load_elmo_embeddings(elmo_path)\n",
    "\n",
    "\n",
    "# Actually producing ELMo embeddings for our data:\n",
    "with tf.Session() as sess:\n",
    "    \n",
    "    # It is necessary to initialize variables once before running inference.\n",
    "    sess.run(tf.global_variables_initializer())\n",
    "    \n",
    "    start = time.time()\n",
    "    elmo_vectors = get_elmo_vectors(\n",
    "        sess, sentences, batcher, sentence_character_ids, elmo_sentence_input)\n",
    "    \n",
    "    print(time.time() - start)\n",
    "    print('ELMo embeddings for your input are ready')\n",
    "    print('Tensor shape:', elmo_vectors.shape)"
   ]
  },
  {
   "cell_type": "code",
   "execution_count": null,
   "metadata": {},
   "outputs": [],
   "source": []
  }
 ],
 "metadata": {
  "kernelspec": {
   "display_name": "Python 3",
   "language": "python",
   "name": "python3"
  },
  "language_info": {
   "codemirror_mode": {
    "name": "ipython",
    "version": 3
   },
   "file_extension": ".py",
   "mimetype": "text/x-python",
   "name": "python",
   "nbconvert_exporter": "python",
   "pygments_lexer": "ipython3",
   "version": "3.7.3"
  }
 },
 "nbformat": 4,
 "nbformat_minor": 2
}
